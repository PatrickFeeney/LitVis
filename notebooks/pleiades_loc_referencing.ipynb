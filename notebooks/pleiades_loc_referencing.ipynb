{
 "cells": [
  {
   "cell_type": "code",
   "execution_count": 1,
   "source": [
    "import pandas as pd\r\n",
    "import numpy as np"
   ],
   "outputs": [],
   "metadata": {}
  },
  {
   "cell_type": "code",
   "execution_count": 2,
   "source": [
    "df = pd.read_csv(\"../data/pleiades/pleiades-names.csv\")"
   ],
   "outputs": [],
   "metadata": {}
  },
  {
   "cell_type": "code",
   "execution_count": 3,
   "source": [
    "df.columns"
   ],
   "outputs": [
    {
     "output_type": "execute_result",
     "data": {
      "text/plain": [
       "Index(['authors', 'bbox', 'created', 'creators', 'currentVersion',\n",
       "       'description', 'extent', 'id', 'locationPrecision', 'maxDate',\n",
       "       'minDate', 'modified', 'nameAttested', 'nameLanguage',\n",
       "       'nameTransliterated', 'path', 'pid', 'reprLat', 'reprLatLong',\n",
       "       'reprLong', 'tags', 'timePeriods', 'timePeriodsKeys',\n",
       "       'timePeriodsRange', 'title', 'uid'],\n",
       "      dtype='object')"
      ]
     },
     "metadata": {},
     "execution_count": 3
    }
   ],
   "metadata": {}
  },
  {
   "cell_type": "code",
   "execution_count": 4,
   "source": [
    "df_filtered = df[[\"nameAttested\", \"nameLanguage\", \"nameTransliterated\", \"reprLat\", \"reprLong\", \"title\"]]\r\n",
    "df_filtered.head(10)"
   ],
   "outputs": [
    {
     "output_type": "execute_result",
     "data": {
      "text/html": [
       "<div>\n",
       "<style scoped>\n",
       "    .dataframe tbody tr th:only-of-type {\n",
       "        vertical-align: middle;\n",
       "    }\n",
       "\n",
       "    .dataframe tbody tr th {\n",
       "        vertical-align: top;\n",
       "    }\n",
       "\n",
       "    .dataframe thead th {\n",
       "        text-align: right;\n",
       "    }\n",
       "</style>\n",
       "<table border=\"1\" class=\"dataframe\">\n",
       "  <thead>\n",
       "    <tr style=\"text-align: right;\">\n",
       "      <th></th>\n",
       "      <th>nameAttested</th>\n",
       "      <th>nameLanguage</th>\n",
       "      <th>nameTransliterated</th>\n",
       "      <th>reprLat</th>\n",
       "      <th>reprLong</th>\n",
       "      <th>title</th>\n",
       "    </tr>\n",
       "  </thead>\n",
       "  <tbody>\n",
       "    <tr>\n",
       "      <th>0</th>\n",
       "      <td>NaN</td>\n",
       "      <td>NaN</td>\n",
       "      <td>Consabura</td>\n",
       "      <td>39.460299</td>\n",
       "      <td>-3.606772</td>\n",
       "      <td>Consabura</td>\n",
       "    </tr>\n",
       "    <tr>\n",
       "      <th>1</th>\n",
       "      <td>NaN</td>\n",
       "      <td>NaN</td>\n",
       "      <td>Consabrum</td>\n",
       "      <td>39.460299</td>\n",
       "      <td>-3.606772</td>\n",
       "      <td>Consabrum</td>\n",
       "    </tr>\n",
       "    <tr>\n",
       "      <th>2</th>\n",
       "      <td>NaN</td>\n",
       "      <td>NaN</td>\n",
       "      <td>Kondabora</td>\n",
       "      <td>39.460299</td>\n",
       "      <td>-3.606772</td>\n",
       "      <td>Kondabora</td>\n",
       "    </tr>\n",
       "    <tr>\n",
       "      <th>3</th>\n",
       "      <td>Consaburrenses</td>\n",
       "      <td>la</td>\n",
       "      <td>Consaburrenses</td>\n",
       "      <td>39.460299</td>\n",
       "      <td>-3.606772</td>\n",
       "      <td>Consaburrenses</td>\n",
       "    </tr>\n",
       "    <tr>\n",
       "      <th>4</th>\n",
       "      <td>Contestania</td>\n",
       "      <td>la</td>\n",
       "      <td>Contestania</td>\n",
       "      <td>38.500000</td>\n",
       "      <td>-1.500000</td>\n",
       "      <td>Contestania</td>\n",
       "    </tr>\n",
       "    <tr>\n",
       "      <th>5</th>\n",
       "      <td>NaN</td>\n",
       "      <td>NaN</td>\n",
       "      <td>Contestani</td>\n",
       "      <td>38.500000</td>\n",
       "      <td>-1.500000</td>\n",
       "      <td>Contestani</td>\n",
       "    </tr>\n",
       "    <tr>\n",
       "      <th>6</th>\n",
       "      <td>NaN</td>\n",
       "      <td>NaN</td>\n",
       "      <td>Dianium</td>\n",
       "      <td>38.842795</td>\n",
       "      <td>0.107511</td>\n",
       "      <td>Dianium</td>\n",
       "    </tr>\n",
       "    <tr>\n",
       "      <th>7</th>\n",
       "      <td>NaN</td>\n",
       "      <td>NaN</td>\n",
       "      <td>Hemeroskopeion</td>\n",
       "      <td>38.842795</td>\n",
       "      <td>0.107511</td>\n",
       "      <td>Hemeroskopeion</td>\n",
       "    </tr>\n",
       "    <tr>\n",
       "      <th>8</th>\n",
       "      <td>Dénia</td>\n",
       "      <td>ca-valencia</td>\n",
       "      <td>Dénia, Denia</td>\n",
       "      <td>NaN</td>\n",
       "      <td>NaN</td>\n",
       "      <td>Dénia</td>\n",
       "    </tr>\n",
       "    <tr>\n",
       "      <th>9</th>\n",
       "      <td>NaN</td>\n",
       "      <td>NaN</td>\n",
       "      <td>Ebura</td>\n",
       "      <td>37.463838</td>\n",
       "      <td>-3.924959</td>\n",
       "      <td>Ebura</td>\n",
       "    </tr>\n",
       "  </tbody>\n",
       "</table>\n",
       "</div>"
      ],
      "text/plain": [
       "     nameAttested nameLanguage nameTransliterated    reprLat  reprLong  \\\n",
       "0             NaN          NaN          Consabura  39.460299 -3.606772   \n",
       "1             NaN          NaN          Consabrum  39.460299 -3.606772   \n",
       "2             NaN          NaN          Kondabora  39.460299 -3.606772   \n",
       "3  Consaburrenses           la     Consaburrenses  39.460299 -3.606772   \n",
       "4     Contestania           la        Contestania  38.500000 -1.500000   \n",
       "5             NaN          NaN         Contestani  38.500000 -1.500000   \n",
       "6             NaN          NaN            Dianium  38.842795  0.107511   \n",
       "7             NaN          NaN     Hemeroskopeion  38.842795  0.107511   \n",
       "8           Dénia  ca-valencia       Dénia, Denia        NaN       NaN   \n",
       "9             NaN          NaN              Ebura  37.463838 -3.924959   \n",
       "\n",
       "            title  \n",
       "0       Consabura  \n",
       "1       Consabrum  \n",
       "2       Kondabora  \n",
       "3  Consaburrenses  \n",
       "4     Contestania  \n",
       "5      Contestani  \n",
       "6         Dianium  \n",
       "7  Hemeroskopeion  \n",
       "8           Dénia  \n",
       "9           Ebura  "
      ]
     },
     "metadata": {},
     "execution_count": 4
    }
   ],
   "metadata": {}
  },
  {
   "cell_type": "code",
   "execution_count": 5,
   "source": [
    "namesTransliterated = np.array(df[\"nameTransliterated\"], dtype=str)\r\n",
    "namesTransliterated"
   ],
   "outputs": [
    {
     "output_type": "execute_result",
     "data": {
      "text/plain": [
       "array(['Consabura', 'Consabrum', 'Kondabora', ..., 'Amaltheum',\n",
       "       'Lago del Matese', 'Anfiteatro di Alba Fucens'], dtype='<U413')"
      ]
     },
     "metadata": {},
     "execution_count": 5
    }
   ],
   "metadata": {}
  },
  {
   "cell_type": "code",
   "execution_count": 6,
   "source": [
    "names = np.array(pd.read_csv(\"../data/output/phi0474.phi056.perseus-lat1/sorted_locs.csv\", quotechar='\"'), dtype=str)[:, 0]\r\n",
    "names"
   ],
   "outputs": [
    {
     "output_type": "execute_result",
     "data": {
      "text/plain": [
       "array(['Alexandrium', 'Allobrogibus', 'Alyzia', 'Arpinati', 'Astura',\n",
       "       'Athens', 'Attici Ficuleano house', 'Brindisium', 'Brundisium',\n",
       "       'Caesars', 'Campania', 'Capua', 'Cilicia', 'Corcyra', 'Corduba',\n",
       "       'Cumanum', 'Cyprum', 'Dertona', 'Dyrrhachium', 'Eporedia',\n",
       "       'Formium', 'Gallia', 'Hispania', 'Iconium', 'Intimilium',\n",
       "       'Lanuvium', 'Laterium', 'Latium', 'Laudicea', 'Lepidus', 'Maium',\n",
       "       'Menturnis', 'Mopsuhestia', 'Mytilens', 'Narona', 'Neapolium',\n",
       "       'Parma', 'Patra', 'Perga', 'Pindenessus', 'Pindenissus',\n",
       "       'Pollentia', 'Pompeiano house', 'Pomptinum', 'Ponte', 'Pyramus',\n",
       "       'Regium', 'Rhodium', 'Roma', 'Sicilia', 'Sidae', 'Syria',\n",
       "       'Tadolics', 'Tarsium', 'Thessalonica', 'Tusculanum', 'Velia',\n",
       "       'Vercells', 'Voconium'], dtype='<U22')"
      ]
     },
     "metadata": {},
     "execution_count": 6
    }
   ],
   "metadata": {}
  },
  {
   "cell_type": "code",
   "execution_count": 7,
   "source": [
    "np.isin(names, namesTransliterated)"
   ],
   "outputs": [
    {
     "output_type": "execute_result",
     "data": {
      "text/plain": [
       "array([False, False,  True, False,  True,  True, False, False,  True,\n",
       "       False,  True,  True,  True,  True,  True, False, False,  True,\n",
       "        True,  True, False,  True,  True,  True, False,  True,  True,\n",
       "        True, False, False, False,  True, False, False,  True, False,\n",
       "        True,  True, False, False, False,  True, False, False, False,\n",
       "       False,  True, False, False,  True, False,  True, False, False,\n",
       "        True, False,  True, False, False])"
      ]
     },
     "metadata": {},
     "execution_count": 7
    }
   ],
   "metadata": {}
  },
  {
   "cell_type": "code",
   "execution_count": 8,
   "source": [
    "for name in names:\r\n",
    "    index_list = np.where(name == namesTransliterated)[0]\r\n",
    "    if len(index_list) > 0:\r\n",
    "        print(index_list)\r\n",
    "        print(df[[\"title\", \"reprLat\", \"reprLong\"]].iloc[index_list])"
   ],
   "outputs": [
    {
     "output_type": "stream",
     "name": "stdout",
     "text": [
      "[21925]\n",
      "        title    reprLat   reprLong\n",
      "21925  Alyzia  38.713373  20.951657\n",
      "[ 6045 11520 31183]\n",
      "        title    reprLat   reprLong\n",
      "6045   Astura        NaN        NaN\n",
      "11520  Astura  41.408855  12.765272\n",
      "31183  Astura        NaN        NaN\n",
      "[19957]\n",
      "        title  reprLat  reprLong\n",
      "19957  Athens      NaN       NaN\n",
      "[12174]\n",
      "            title    reprLat   reprLong\n",
      "12174  Brundisium  40.638663  17.942912\n",
      "[11550 27644]\n",
      "          title  reprLat  reprLong\n",
      "11550  Campania    41.25     14.25\n",
      "27644  Campania      NaN       NaN\n",
      "[11562]\n",
      "       title    reprLat   reprLong\n",
      "11562  Capua  41.086092  14.250207\n",
      "[ 4371 15391 25699 27493]\n",
      "         title  reprLat  reprLong\n",
      "4371   Cilicia    38.25     35.75\n",
      "15391  Cilicia      NaN       NaN\n",
      "25699  Cilicia      NaN       NaN\n",
      "27493  Cilicia      NaN       NaN\n",
      "[21969 21972]\n",
      "         title    reprLat  reprLong\n",
      "21969  Corcyra  39.606285  19.91558\n",
      "21972  Corcyra  39.750000  19.75000\n",
      "[20613]\n",
      "         title    reprLat  reprLong\n",
      "20613  Corduba  37.884683 -4.779171\n",
      "[2081]\n",
      "        title    reprLat  reprLong\n",
      "2081  Dertona  44.897171  8.865452\n",
      "[22343]\n",
      "             title    reprLat   reprLong\n",
      "22343  Dyrrhachium  41.314409  19.447355\n",
      "[2091]\n",
      "         title    reprLat  reprLong\n",
      "2091  Eporedia  45.466604  7.875942\n",
      "[27696]\n",
      "        title  reprLat  reprLong\n",
      "27696  Gallia      NaN       NaN\n",
      "[33873]\n",
      "          title  reprLat  reprLong\n",
      "33873  Hispania      NaN       NaN\n",
      "[14944]\n",
      "         title    reprLat   reprLong\n",
      "14944  Iconium  37.872202  32.492331\n",
      "[31234]\n",
      "          title    reprLat   reprLong\n",
      "31234  Lanuvium  41.674703  12.697593\n",
      "[11964]\n",
      "          title  reprLat  reprLong\n",
      "11964  Laterium      NaN       NaN\n",
      "[11656]\n",
      "        title  reprLat  reprLong\n",
      "11656  Latium      NaN       NaN\n",
      "[11688]\n",
      "           title    reprLat   reprLong\n",
      "11688  Menturnis  41.242193  13.768467\n",
      "[25335]\n",
      "        title    reprLat   reprLong\n",
      "25335  Narona  43.063722  17.613419\n",
      "[2187 2188 2190 2192]\n",
      "      title    reprLat   reprLong\n",
      "2187  Parma  44.801507  10.327967\n",
      "2188  Parma  44.801507  10.327967\n",
      "2190  Parma        NaN        NaN\n",
      "2192  Parma  44.750000  10.250000\n",
      "[19145]\n",
      "       title    reprLat   reprLong\n",
      "19145  Patra  38.248795  21.734916\n",
      "[ 123 2198]\n",
      "          title    reprLat  reprLong\n",
      "123   Pollentia        NaN       NaN\n",
      "2198  Pollentia  44.686768  7.895976\n",
      "[15913]\n",
      "        title    reprLat   reprLong\n",
      "15913  Regium  38.110708  15.647027\n",
      "[14377 25714 27532]\n",
      "         title  reprLat  reprLong\n",
      "14377  Sicilia    37.75     13.25\n",
      "25714  Sicilia      NaN       NaN\n",
      "27532  Sicilia      NaN       NaN\n",
      "[  564 21272 27533 28682]\n",
      "       title  reprLat  reprLong\n",
      "564    Syria     37.5      37.5\n",
      "21272  Syria      NaN       NaN\n",
      "27533  Syria      NaN       NaN\n",
      "28682  Syria      NaN       NaN\n",
      "[23133]\n",
      "              title    reprLat   reprLong\n",
      "23133  Thessalonica  40.634097  22.951647\n",
      "[ 6092  6093 12067 15976]\n",
      "       title    reprLat   reprLong\n",
      "6092   Velia        NaN        NaN\n",
      "6093   Velia        NaN        NaN\n",
      "12067  Velia        NaN        NaN\n",
      "15976  Velia  40.160744  15.155092\n"
     ]
    }
   ],
   "metadata": {}
  }
 ],
 "metadata": {
  "orig_nbformat": 4,
  "language_info": {
   "name": "python",
   "version": "3.9.6",
   "mimetype": "text/x-python",
   "codemirror_mode": {
    "name": "ipython",
    "version": 3
   },
   "pygments_lexer": "ipython3",
   "nbconvert_exporter": "python",
   "file_extension": ".py"
  },
  "kernelspec": {
   "name": "python3",
   "display_name": "Python 3.9.6 64-bit ('LitVis-eNBwGAWT')"
  },
  "interpreter": {
   "hash": "6d9fde6a3d863c9f2b41d05b945dacb902c8ca361d31c485648e1a128a541dbb"
  }
 },
 "nbformat": 4,
 "nbformat_minor": 2
}