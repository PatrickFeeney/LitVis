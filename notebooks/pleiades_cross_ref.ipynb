{
 "cells": [
  {
   "cell_type": "code",
   "execution_count": 1,
   "metadata": {},
   "outputs": [],
   "source": [
    "import os\n",
    "from pathlib import Path\n",
    "import sys\n",
    "\n",
    "# set up paths and imports\n",
    "if Path.cwd().stem == \"notebooks\":\n",
    "    os.chdir(\"..\")\n",
    "    sys.path.append(\"src\")"
   ]
  },
  {
   "cell_type": "code",
   "execution_count": 2,
   "metadata": {},
   "outputs": [],
   "source": [
    "import numpy as np\n",
    "\n",
    "import epidoc\n",
    "import pleiades\n",
    "\n",
    "# TODO test with 057-059\n",
    "# dateline text from parsing EpiDocXML\n",
    "epidoc_fname = \"submodules/canonical-latinLit/data/phi0474/phi056/phi0474.phi056.perseus-lat1.xml\"\n",
    "geodetic_fname = \"data/input/loc_to_geodetic.csv\"\n",
    "topo_fname = \"data/input/loc_to_topo_id.csv\"\n",
    "parser = epidoc.EpiDocXMLParser(epidoc_fname, geodetic_fname, topo_fname)\n",
    "# create lookup to cross reference locations\n",
    "loc_names = parser.sorted_unique_locs\n",
    "pl_lookup = pleiades.PleiadesLookup(\"data/pleiades/pleiades-names.csv\")\n",
    "pl_name_locs = pl_lookup.get_name_locs(loc_names)"
   ]
  },
  {
   "cell_type": "code",
   "execution_count": 4,
   "metadata": {},
   "outputs": [
    {
     "name": "stdout",
     "output_type": "stream",
     "text": [
      "Corcyra\n",
      "2\n"
     ]
    },
    {
     "data": {
      "application/vnd.jupyter.widget-view+json": {
       "model_id": "02fc7e487b5b4f7ea987ea59ba9971e6",
       "version_major": 2,
       "version_minor": 0
      },
      "text/plain": [
       "Map(center=[39.606285, 19.91558], controls=(ZoomControl(options=['position', 'zoom_in_text', 'zoom_in_title', …"
      ]
     },
     "metadata": {},
     "output_type": "display_data"
    },
    {
     "name": "stdout",
     "output_type": "stream",
     "text": [
      "Parma\n",
      "3\n"
     ]
    },
    {
     "data": {
      "application/vnd.jupyter.widget-view+json": {
       "model_id": "608dd2439c4a45a785cadac1fd985343",
       "version_major": 2,
       "version_minor": 0
      },
      "text/plain": [
       "Map(center=[44.801507, 10.327967], controls=(ZoomControl(options=['position', 'zoom_in_text', 'zoom_in_title',…"
      ]
     },
     "metadata": {},
     "output_type": "display_data"
    }
   ],
   "source": [
    "from ipyleaflet import Map, Marker, MarkerCluster\n",
    "\n",
    "\n",
    "for i, name in enumerate(loc_names):\n",
    "    pl_locs = pl_name_locs[i]\n",
    "    markers = []\n",
    "    for loc in pl_locs:\n",
    "        # need to maintain pl index\n",
    "        # need to make markers selectable\n",
    "        if not np.any(np.isnan(loc)):\n",
    "            markers.append(Marker(location=list(loc), title=name))\n",
    "    if len(markers) > 1:\n",
    "        # need to fit map to bounds of markers\n",
    "        m = Map(center=markers[0].location, zoom=15)\n",
    "        for marker in markers:\n",
    "            m.add_layer(marker)\n",
    "        print(name)\n",
    "        print(len(markers))\n",
    "        display(m)\n",
    "\n"
   ]
  }
 ],
 "metadata": {
  "interpreter": {
   "hash": "6d9fde6a3d863c9f2b41d05b945dacb902c8ca361d31c485648e1a128a541dbb"
  },
  "kernelspec": {
   "display_name": "Python 3.10.0 64-bit ('LitVis-eNBwGAWT': pipenv)",
   "language": "python",
   "name": "python3"
  },
  "language_info": {
   "codemirror_mode": {
    "name": "ipython",
    "version": 3
   },
   "file_extension": ".py",
   "mimetype": "text/x-python",
   "name": "python",
   "nbconvert_exporter": "python",
   "pygments_lexer": "ipython3",
   "version": "3.10.0"
  },
  "orig_nbformat": 4
 },
 "nbformat": 4,
 "nbformat_minor": 2
}
